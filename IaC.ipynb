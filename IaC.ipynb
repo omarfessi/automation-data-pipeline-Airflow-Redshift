{
 "cells": [
  {
   "cell_type": "code",
   "execution_count": null,
   "metadata": {},
   "outputs": [],
   "source": [
    "import configparser\n",
    "import boto3\n",
    "import json\n",
    "import pandas as pd\n",
    "import psycopg2"
   ]
  },
  {
   "cell_type": "code",
   "execution_count": null,
   "metadata": {},
   "outputs": [],
   "source": [
    "config=configparser.ConfigParser()\n",
    "config.read_file(open('redshift_configuration.cfg'))"
   ]
  },
  {
   "cell_type": "code",
   "execution_count": null,
   "metadata": {},
   "outputs": [],
   "source": [
    "KEY                    = config.get('IAM_USER','KEY')\n",
    "SECRET                 = config.get('IAM_USER','SECRET')\n",
    "\n",
    "\n",
    "CLUSTER_IDENTIFIER     = config.get('CLUSTER', 'CLUSTER_IDENTIFIER')\n",
    "CLUSTER_TYPE           = config.get('CLUSTER', 'CLUSTER_TYPE')\n",
    "NUM_NODES              = config.get('CLUSTER', 'NUM_NODES')\n",
    "NODE_TYPE              = config.get('CLUSTER', 'NODE_TYPE')\n",
    "\n",
    "\n",
    "DB_NAME                = config.get('DATABASE', 'DB_NAME')\n",
    "DB_USER                = config.get('DATABASE', 'DB_USER')\n",
    "DB_PASSWORD            = config.get('DATABASE', 'DB_PASSWORD')\n",
    "DB_PORT                = config.get('DATABASE', 'DB_PORT')\n",
    "\n",
    "IAM_ROLE_NAME          = config.get('IAM_ROLE', 'IAM_ROLE_NAME')"
   ]
  },
  {
   "cell_type": "markdown",
   "metadata": {},
   "source": [
    "### Client for IAM, EC2,S3, and Redshift"
   ]
  },
  {
   "cell_type": "code",
   "execution_count": null,
   "metadata": {},
   "outputs": [],
   "source": [
    "ec2      = boto3.resource('ec2',\n",
    "                          region_name           = 'us-west-2',\n",
    "                          aws_access_key_id     = KEY,\n",
    "                          aws_secret_access_key = SECRET)\n",
    "\n",
    "s3       = boto3.resource('s3',\n",
    "                          region_name           ='us-west-2',\n",
    "                          aws_access_key_id     = KEY,\n",
    "                          aws_secret_access_key = SECRET)\n",
    "\n",
    "iam      = boto3.client('iam', \n",
    "                        region_name             ='us-west-2',\n",
    "                        aws_access_key_id       = KEY,\n",
    "                        aws_secret_access_key   = SECRET)\n",
    "\n",
    "redshift = boto3.client('redshift',\n",
    "                        region_name             ='us-west-2',\n",
    "                        aws_access_key_id       = KEY,\n",
    "                        aws_secret_access_key   = SECRET)"
   ]
  },
  {
   "cell_type": "markdown",
   "metadata": {},
   "source": [
    "### IAM ROLE\n",
    "##### Create an IAM Role that enables RedShift to access S3 bucket ( ReadOnly) "
   ]
  },
  {
   "cell_type": "code",
   "execution_count": null,
   "metadata": {},
   "outputs": [],
   "source": [
    "from botocore.exceptions import ClientError\n",
    "\n",
    "#1.1 Create the role\n",
    "try:\n",
    "    print(\"1.1 Creating a new IAM Role called Omaar-IAM-FOR-AIRFLOW\") \n",
    "    dwhRole = iam.create_role(\n",
    "        Path='/',\n",
    "        RoleName=IAM_ROLE_NAME,\n",
    "        Description = \"Allows Redshift clusters to call AWS services on your behalf.\",\n",
    "        AssumeRolePolicyDocument=json.dumps(\n",
    "            {'Statement': [{'Action': 'sts:AssumeRole','Effect': 'Allow','Principal': {'Service': 'redshift.amazonaws.com'}}],\n",
    "             'Version': '2012-10-17'})\n",
    "    )    \n",
    "except Exception as e:\n",
    "    print(e)\n",
    "    \n",
    "\n",
    "print(\"1.2 Attaching Policy\")\n",
    "\n",
    "iam.attach_role_policy(RoleName=IAM_ROLE_NAME,PolicyArn=\"arn:aws:iam::aws:policy/AmazonS3ReadOnlyAccess\")['ResponseMetadata']['HTTPStatusCode']\n",
    "\n",
    "print(\"1.3 Get the IAM role ARN\")\n",
    "roleArn = iam.get_role(RoleName=IAM_ROLE_NAME)['Role']['Arn']\n",
    "\n",
    "\n",
    "print(roleArn)"
   ]
  },
  {
   "cell_type": "markdown",
   "metadata": {},
   "source": [
    "### Create Redshift Cluster\n"
   ]
  },
  {
   "cell_type": "code",
   "execution_count": null,
   "metadata": {},
   "outputs": [],
   "source": [
    "try:\n",
    "    response= redshift.create_cluster( ClusterType   = CLUSTER_TYPE,\n",
    "                                  NodeType           = NODE_TYPE,\n",
    "                                  NumberOfNodes      = int(NUM_NODES),\n",
    "                                  \n",
    "                                  #identifiers & credentials\n",
    "                                  DBName             = DB_NAME,\n",
    "                                  ClusterIdentifier  = CLUSTER_IDENTIFIER,\n",
    "                                  MasterUsername     = DB_USER,\n",
    "                                  MasterUserPassword = DB_PASSWORD,\n",
    "                                  \n",
    "                                  #Roles ( for s3 access)\n",
    "                                  IamRoles = [roleArn] \n",
    "                                 )\n",
    "except Exception as e:\n",
    "    print(e)"
   ]
  },
  {
   "cell_type": "markdown",
   "metadata": {},
   "source": [
    "### Describe the cluster to see its status "
   ]
  },
  {
   "cell_type": "code",
   "execution_count": null,
   "metadata": {},
   "outputs": [],
   "source": [
    "def description (props):\n",
    "    pd.set_option('display.max_colwidth',None)\n",
    "    keyToShow= [\"ClusterIdentifier\", \"NodeType\", \"ClusterStatus\", \"MasterUsername\", \"DBName\", \"Endpoint\", \"NumberOfNodes\", 'VpcId']\n",
    "    x = [(k,v) for k,v in props.items() if k in keyToShow]\n",
    "    return pd.DataFrame(data=x,columns=['Key','Value'])\n",
    "myClusterProps = redshift.describe_clusters(ClusterIdentifier=CLUSTER_IDENTIFIER)['Clusters'][0]\n",
    "description( myClusterProps)"
   ]
  },
  {
   "cell_type": "code",
   "execution_count": null,
   "metadata": {},
   "outputs": [],
   "source": [
    "ENDPOINT = myClusterProps['Endpoint']['Address']\n",
    "ROLE_ARN = myClusterProps['IamRoles'][0]['IamRoleArn']"
   ]
  },
  {
   "cell_type": "markdown",
   "metadata": {},
   "source": [
    "### Connect to redshift once the dag is complete "
   ]
  },
  {
   "cell_type": "code",
   "execution_count": null,
   "metadata": {},
   "outputs": [],
   "source": [
    "# this one is functional ( les parametre dans cfg sont dans l'order pour CLUSTER ) \n",
    "conn = psycopg2.connect(\"host={} dbname={} user={} password={} port={}\".format(ENDPOINT, *config['DATABASE'].values()))\n",
    "cur=conn.cursor()"
   ]
  },
  {
   "cell_type": "markdown",
   "metadata": {},
   "source": [
    "### quality check & analysis "
   ]
  },
  {
   "cell_type": "code",
   "execution_count": null,
   "metadata": {},
   "outputs": [],
   "source": []
  },
  {
   "cell_type": "code",
   "execution_count": null,
   "metadata": {},
   "outputs": [],
   "source": []
  },
  {
   "cell_type": "code",
   "execution_count": null,
   "metadata": {},
   "outputs": [],
   "source": []
  },
  {
   "cell_type": "markdown",
   "metadata": {},
   "source": [
    "### Clean up AWS resources "
   ]
  },
  {
   "cell_type": "code",
   "execution_count": null,
   "metadata": {},
   "outputs": [],
   "source": [
    "redshift.delete_cluster(ClusterIdentifier= CLUSTER_IDENTIFIER, SkipFinalClusterSnapshot= True)"
   ]
  },
  {
   "cell_type": "code",
   "execution_count": null,
   "metadata": {},
   "outputs": [],
   "source": [
    "myClusterProps2=redshift.describe_clusters(ClusterIdentifier= CLUSTER_IDENTIFIER)['Clusters'][0]\n",
    "description( myClusterProps2)"
   ]
  }
 ],
 "metadata": {
  "kernelspec": {
   "display_name": "Python 3",
   "language": "python",
   "name": "python3"
  },
  "language_info": {
   "codemirror_mode": {
    "name": "ipython",
    "version": 3
   },
   "file_extension": ".py",
   "mimetype": "text/x-python",
   "name": "python",
   "nbconvert_exporter": "python",
   "pygments_lexer": "ipython3",
   "version": "3.8.3"
  }
 },
 "nbformat": 4,
 "nbformat_minor": 4
}
